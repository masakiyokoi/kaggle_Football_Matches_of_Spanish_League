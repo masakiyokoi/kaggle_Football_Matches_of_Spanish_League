{
 "cells": [
  {
   "cell_type": "code",
   "execution_count": 1,
   "metadata": {},
   "outputs": [
    {
     "name": "stdout",
     "output_type": "stream",
     "text": [
      "37147 1\n"
     ]
    }
   ],
   "source": [
    "import pandas as pd\n",
    "\n",
    "list = []\n",
    "df = pd.read_csv('FMEL_Dataset.csv')\n",
    "colums = df.columns\n",
    "#print(colums)\n",
    "localGoals = df.localGoals\n",
    "visitorGoals = df.visitorGoals\n",
    "concat_goals = pd.concat([localGoals, visitorGoals], axis=1,join_axes=[localGoals.index])\n",
    "#print(concat_goals)\n",
    "concat_goals= concat_goals.values\n",
    "print(len(concat_goals),concat_goals[0][1])"
   ]
  },
  {
   "cell_type": "code",
   "execution_count": 2,
   "metadata": {},
   "outputs": [],
   "source": [
    "import numpy as np\n",
    "#左のチームの主観\n",
    "def distinct(goals):\n",
    "    match_result = []\n",
    "    win = 2\n",
    "    lose = 0\n",
    "    draw = 1\n",
    "    #print(goals)\n",
    "    for a in goals:\n",
    "        result = a[0] - a[1]\n",
    "        if result > 0:\n",
    "            match_result.append(win)\n",
    "        elif result == 0:\n",
    "            match_result.append(draw)\n",
    "        elif result < 0:\n",
    "            match_result.append(lose)\n",
    "    return match_result\n",
    "\n",
    "match_result = distinct(concat_goals)\n",
    "#リストか配列か\n",
    "#print(len(distinct(concat_goals)),np.array(match_result))\n",
    "#"
   ]
  },
  {
   "cell_type": "code",
   "execution_count": 3,
   "metadata": {},
   "outputs": [
    {
     "name": "stdout",
     "output_type": "stream",
     "text": [
      "121\n"
     ]
    }
   ],
   "source": [
    "#チーム名のembetting\n",
    "from sklearn.feature_extraction.text import CountVectorizer\n",
    "local_team = df.localTeam.values\n",
    "visiter_team = df.localTeam.values\n",
    "count = CountVectorizer()\n",
    "bag_local = count.fit_transform(local_team)\n",
    "bag_visiter = count.fit_transform(visiter_team)\n",
    "\n",
    "embetting_name_local = bag_local.toarray()\n",
    "embetting_name_visiter = bag_visiter.toarray()\n",
    "#embetting_name= embetting_name.tolist()\n",
    "print(len(embetting_name_local[0]))"
   ]
  },
  {
   "cell_type": "code",
   "execution_count": 4,
   "metadata": {},
   "outputs": [],
   "source": [
    "#正規化に問題ありそう\n",
    "list = __builtins__.list\n",
    "def zscore(x):\n",
    "    xmean = x.mean()\n",
    "    xstd = np.std(x)\n",
    "    zscore = (x-xmean)/xstd\n",
    "    return zscore\n",
    "\n",
    "#min_maxがダメな気が\n",
    "def min_max(x):\n",
    "    min = x.min()\n",
    "    max = x.max()\n",
    "    result = (x-min)/(max-min)\n",
    "    return result\n",
    "\n",
    "def normalize(v, axis=-1, order=2):\n",
    "    l2 = np.linalg.norm(v, ord = order, axis=axis, keepdims=True)\n",
    "    l2[l2==0] = 1\n",
    "    return v/l2"
   ]
  },
  {
   "cell_type": "code",
   "execution_count": 5,
   "metadata": {},
   "outputs": [
    {
     "name": "stdout",
     "output_type": "stream",
     "text": [
      "13\n",
      "21938400\n",
      "1\n"
     ]
    }
   ],
   "source": [
    "df_round = df['round'].values\n",
    "print(df_round[100])\n",
    "timestamp = df['timestamp'].values\n",
    "print(timestamp[0])\n",
    "division = df['division'].values\n",
    "print(division[0])"
   ]
  },
  {
   "cell_type": "code",
   "execution_count": 6,
   "metadata": {},
   "outputs": [
    {
     "name": "stdout",
     "output_type": "stream",
     "text": [
      "[1970 1971]\n"
     ]
    }
   ],
   "source": [
    "df_season = df.season.values.tolist()\n",
    "head = [a[:2] for a in df_season]\n",
    "#print(head[0])\n",
    "season = [a.split('-') for a in df_season]\n",
    "#print(season[0][1])\n",
    "\n",
    "for i in range(len(season)):\n",
    "    season[i][1] = head[i] + season[i][1]\n",
    "\n",
    "for i in range(len(season)):\n",
    "    season[i] = [int(d) for d in season[i]]\n",
    "season = np.array(season)\n",
    "print(season[1])"
   ]
  },
  {
   "cell_type": "code",
   "execution_count": 7,
   "metadata": {},
   "outputs": [
    {
     "name": "stdout",
     "output_type": "stream",
     "text": [
      "(37147, 3)\n",
      "[  12    9 1970]\n"
     ]
    }
   ],
   "source": [
    "#date\n",
    "df_date = df['date'].values\n",
    "\n",
    "#df_date = list(map(lambda d : d.split('/'),df_date))\n",
    "#df_date = [d.strip('0') for d in df_date]\n",
    "df_date = [d.split('/') for d in df_date]\n",
    "\n",
    "for i in range(len(df_date)):\n",
    "    df_date[i] = [int(d) for d in df_date[i]]\n",
    "df_date = np.array(df_date)\n",
    "print(df_date.shape)\n",
    "print(df_date[0])"
   ]
  },
  {
   "cell_type": "code",
   "execution_count": 8,
   "metadata": {},
   "outputs": [
    {
     "name": "stdout",
     "output_type": "stream",
     "text": [
      "1970-12-09 00:00:00\n",
      "[[0.00211121]\n",
      " [0.00211121]\n",
      " [0.00211121]\n",
      " ...\n",
      " [0.00105561]\n",
      " [0.00105561]\n",
      " [0.00105561]]\n"
     ]
    }
   ],
   "source": [
    "df_date = pd.to_datetime(df['date'])\n",
    "print(df_date[0])\n",
    "dayofweek = df_date.dt.dayofweek\n",
    "dayofweek = dayofweek.astype(np.float32)\n",
    "dayofweek = np.array(dayofweek)\n",
    "#dayofweek = dayofweek.tolist()\n",
    "dayofweek = normalize(dayofweek)\n",
    "dayofweek = dayofweek.reshape(-1, 1)\n",
    "print(dayofweek)\n",
    "#print(dayofweek[0][0],dayofweek.shape,dayofweek.dtype)"
   ]
  },
  {
   "cell_type": "code",
   "execution_count": 80,
   "metadata": {},
   "outputs": [
    {
     "name": "stdout",
     "output_type": "stream",
     "text": [
      "[1. 0. 0. 0. 0. 0. 0. 0. 0. 0. 0. 0. 0. 0. 0. 1. 0. 0. 0. 0. 0. 1. 0. 0.\n",
      " 0. 0. 0. 0. 0. 0. 0. 0. 0. 0. 0. 0. 1. 0. 0. 0. 0. 0. 0. 0. 0. 0. 0. 0.\n",
      " 0. 0. 0. 0. 0. 0. 0. 0. 0. 0. 0. 0. 0. 0. 0. 0. 0. 0. 0. 0. 0. 0. 0. 0.\n",
      " 0. 0. 0. 0. 0. 0. 0. 0. 0. 0. 0. 0. 0. 0. 0. 0. 0. 0. 0. 0. 0. 0. 0. 0.\n",
      " 0. 0. 0. 0. 0. 0. 0. 0. 0. 0. 0. 0. 0. 0. 0. 0. 0. 0. 0. 0. 0. 0. 0. 0.\n",
      " 0. 0. 0. 0. 0. 0. 0. 0. 0. 0. 0. 0. 0. 0. 0. 0. 1. 0. 0. 0. 0. 0. 1. 0.\n",
      " 0. 0. 0. 0. 0. 0. 0. 0. 0. 0. 0. 0. 0. 1. 0. 0. 0. 0. 0. 0. 0. 0. 0. 0.\n",
      " 0. 0. 0. 0. 0. 0. 0. 0. 0. 0. 0. 0. 0. 0. 0. 0. 0. 0. 0. 0. 0. 0. 0. 0.\n",
      " 0. 0. 0. 0. 0. 0. 0. 0. 0. 0. 0. 0. 0. 0. 0. 0. 0. 0. 0. 0. 0. 0. 0. 0.\n",
      " 0. 0. 0. 0. 0. 0. 0. 0. 0. 0. 0. 0. 0. 0. 0. 0. 0. 0. 0. 0. 0. 0. 0. 0.\n",
      " 0. 0. 0.]\n",
      "<class 'numpy.ndarray'>\n"
     ]
    }
   ],
   "source": [
    "new_df = np.zeros((37147,243))\n",
    "\n",
    "for i in range(len(df_date)):\n",
    "    new_df[i] =  np.hstack((\n",
    "        #season[i],\n",
    "        #division[i],\n",
    "        df_round[i],\n",
    "        embetting_name_local[i],\n",
    "        embetting_name_visiter[i]\n",
    "        #dayofweek[i]\n",
    "        \n",
    "    ))\n",
    "    \n",
    "print(new_df[0])\n",
    "print(type(new_df))"
   ]
  },
  {
   "cell_type": "code",
   "execution_count": 64,
   "metadata": {},
   "outputs": [],
   "source": [
    "first_half = normalize(new_df[:,0])\n",
    "first_half = first_half.reshape(-1,1)\n",
    "second_half = normalize(new_df[:,1])\n",
    "second_half = second_half.reshape(-1,1)\n",
    "new_df = np.delete(new_df,0,1)\n",
    "new_df = np.delete(new_df,0,1)\n"
   ]
  },
  {
   "cell_type": "code",
   "execution_count": 65,
   "metadata": {},
   "outputs": [
    {
     "name": "stdout",
     "output_type": "stream",
     "text": [
      "(37147, 2)\n",
      "[0.00295268 0.         0.         0.         0.         0.\n",
      " 0.         0.         0.         0.         0.         0.\n",
      " 0.         0.         0.         0.         0.         0.\n",
      " 0.         0.         0.         0.         0.         0.\n",
      " 0.         0.         0.         0.         0.         0.\n",
      " 0.         0.         0.         0.         0.         0.\n",
      " 0.         0.         0.         0.         0.         0.\n",
      " 0.         0.         0.         0.         0.         0.\n",
      " 0.         0.         0.         0.         0.         0.\n",
      " 0.         0.         0.         0.         0.         0.\n",
      " 0.         0.         0.         0.         0.         0.\n",
      " 0.         0.         0.         0.         0.         0.\n",
      " 0.         0.         0.         0.         0.         0.\n",
      " 0.         0.         0.         0.         0.         0.\n",
      " 0.         0.         0.         0.         0.         0.\n",
      " 0.         0.         0.         0.         0.         1.\n",
      " 0.         0.         0.         0.         0.         0.\n",
      " 0.         0.         1.         0.         0.         0.\n",
      " 0.         0.         0.         0.         0.         0.\n",
      " 0.         0.         0.         0.         0.         0.\n",
      " 0.         0.         0.         0.         0.         0.\n",
      " 0.         0.         0.         0.         0.         0.\n",
      " 0.         0.         0.         0.         0.         0.\n",
      " 0.         0.         0.         0.         0.         0.\n",
      " 0.         0.         0.         0.         0.         0.\n",
      " 0.         0.         0.         0.         0.         0.\n",
      " 0.         0.         0.         0.         0.         0.\n",
      " 0.         0.         0.         0.         0.         0.\n",
      " 0.         0.         0.         0.         0.         0.\n",
      " 0.         0.         0.         0.         0.         0.\n",
      " 0.         0.         0.         0.         0.         0.\n",
      " 0.         0.         0.         0.         0.         0.\n",
      " 0.         0.         0.         0.         0.         0.\n",
      " 0.         0.         0.         0.         0.         0.\n",
      " 0.         0.         0.         0.         0.         0.\n",
      " 0.         0.         0.         0.         0.         0.\n",
      " 1.         0.         0.         0.         0.         0.\n",
      " 0.         0.         0.         1.         0.         0.\n",
      " 0.         0.         0.         0.         0.         0.\n",
      " 0.         0.         0.         0.         0.         0.\n",
      " 0.         0.         0.        ]\n"
     ]
    }
   ],
   "source": [
    "full_year = np.hstack((first_half,second_half))\n",
    "print(full_year.shape)\n",
    "\n",
    "new_df = np.hstack((full_year,new_df))\n",
    "print(new_df[100])"
   ]
  },
  {
   "cell_type": "code",
   "execution_count": 66,
   "metadata": {},
   "outputs": [
    {
     "name": "stdout",
     "output_type": "stream",
     "text": [
      "[[0.00022713 0.         0.         ... 0.         0.         0.        ]\n",
      " [0.00022713 0.         0.         ... 0.         0.         0.        ]\n",
      " [0.00022713 0.         0.         ... 0.         0.         0.        ]\n",
      " ...\n",
      " [0.00953942 0.         0.         ... 0.         0.         0.        ]\n",
      " [0.00953942 0.         0.         ... 0.         0.         0.        ]\n",
      " [0.00953942 0.         0.         ... 0.         0.         0.        ]]\n"
     ]
    }
   ],
   "source": [
    "new_df = new_df.astype(np.float32)\n",
    "print(new_df)"
   ]
  },
  {
   "cell_type": "code",
   "execution_count": 67,
   "metadata": {},
   "outputs": [
    {
     "name": "stdout",
     "output_type": "stream",
     "text": [
      "(37147,)\n"
     ]
    }
   ],
   "source": [
    "#試合結果\n",
    "match_result = np.array(match_result)\n",
    "print(match_result.shape)"
   ]
  },
  {
   "cell_type": "code",
   "execution_count": 68,
   "metadata": {},
   "outputs": [
    {
     "name": "stdout",
     "output_type": "stream",
     "text": [
      "(array([2.2712906e-04, 0.0000000e+00, 0.0000000e+00, 0.0000000e+00,\n",
      "       0.0000000e+00, 0.0000000e+00, 0.0000000e+00, 0.0000000e+00,\n",
      "       0.0000000e+00, 0.0000000e+00, 0.0000000e+00, 0.0000000e+00,\n",
      "       0.0000000e+00, 0.0000000e+00, 0.0000000e+00, 1.0000000e+00,\n",
      "       0.0000000e+00, 0.0000000e+00, 0.0000000e+00, 0.0000000e+00,\n",
      "       0.0000000e+00, 1.0000000e+00, 0.0000000e+00, 0.0000000e+00,\n",
      "       0.0000000e+00, 0.0000000e+00, 0.0000000e+00, 0.0000000e+00,\n",
      "       0.0000000e+00, 0.0000000e+00, 0.0000000e+00, 0.0000000e+00,\n",
      "       0.0000000e+00, 0.0000000e+00, 0.0000000e+00, 0.0000000e+00,\n",
      "       1.0000000e+00, 0.0000000e+00, 0.0000000e+00, 0.0000000e+00,\n",
      "       0.0000000e+00, 0.0000000e+00, 0.0000000e+00, 0.0000000e+00,\n",
      "       0.0000000e+00, 0.0000000e+00, 0.0000000e+00, 0.0000000e+00,\n",
      "       0.0000000e+00, 0.0000000e+00, 0.0000000e+00, 0.0000000e+00,\n",
      "       0.0000000e+00, 0.0000000e+00, 0.0000000e+00, 0.0000000e+00,\n",
      "       0.0000000e+00, 0.0000000e+00, 0.0000000e+00, 0.0000000e+00,\n",
      "       0.0000000e+00, 0.0000000e+00, 0.0000000e+00, 0.0000000e+00,\n",
      "       0.0000000e+00, 0.0000000e+00, 0.0000000e+00, 0.0000000e+00,\n",
      "       0.0000000e+00, 0.0000000e+00, 0.0000000e+00, 0.0000000e+00,\n",
      "       0.0000000e+00, 0.0000000e+00, 0.0000000e+00, 0.0000000e+00,\n",
      "       0.0000000e+00, 0.0000000e+00, 0.0000000e+00, 0.0000000e+00,\n",
      "       0.0000000e+00, 0.0000000e+00, 0.0000000e+00, 0.0000000e+00,\n",
      "       0.0000000e+00, 0.0000000e+00, 0.0000000e+00, 0.0000000e+00,\n",
      "       0.0000000e+00, 0.0000000e+00, 0.0000000e+00, 0.0000000e+00,\n",
      "       0.0000000e+00, 0.0000000e+00, 0.0000000e+00, 0.0000000e+00,\n",
      "       0.0000000e+00, 0.0000000e+00, 0.0000000e+00, 0.0000000e+00,\n",
      "       0.0000000e+00, 0.0000000e+00, 0.0000000e+00, 0.0000000e+00,\n",
      "       0.0000000e+00, 0.0000000e+00, 0.0000000e+00, 0.0000000e+00,\n",
      "       0.0000000e+00, 0.0000000e+00, 0.0000000e+00, 0.0000000e+00,\n",
      "       0.0000000e+00, 0.0000000e+00, 0.0000000e+00, 0.0000000e+00,\n",
      "       0.0000000e+00, 0.0000000e+00, 0.0000000e+00, 0.0000000e+00,\n",
      "       0.0000000e+00, 0.0000000e+00, 0.0000000e+00, 0.0000000e+00,\n",
      "       0.0000000e+00, 0.0000000e+00, 0.0000000e+00, 0.0000000e+00,\n",
      "       0.0000000e+00, 0.0000000e+00, 0.0000000e+00, 0.0000000e+00,\n",
      "       0.0000000e+00, 0.0000000e+00, 0.0000000e+00, 0.0000000e+00,\n",
      "       1.0000000e+00, 0.0000000e+00, 0.0000000e+00, 0.0000000e+00,\n",
      "       0.0000000e+00, 0.0000000e+00, 1.0000000e+00, 0.0000000e+00,\n",
      "       0.0000000e+00, 0.0000000e+00, 0.0000000e+00, 0.0000000e+00,\n",
      "       0.0000000e+00, 0.0000000e+00, 0.0000000e+00, 0.0000000e+00,\n",
      "       0.0000000e+00, 0.0000000e+00, 0.0000000e+00, 0.0000000e+00,\n",
      "       0.0000000e+00, 1.0000000e+00, 0.0000000e+00, 0.0000000e+00,\n",
      "       0.0000000e+00, 0.0000000e+00, 0.0000000e+00, 0.0000000e+00,\n",
      "       0.0000000e+00, 0.0000000e+00, 0.0000000e+00, 0.0000000e+00,\n",
      "       0.0000000e+00, 0.0000000e+00, 0.0000000e+00, 0.0000000e+00,\n",
      "       0.0000000e+00, 0.0000000e+00, 0.0000000e+00, 0.0000000e+00,\n",
      "       0.0000000e+00, 0.0000000e+00, 0.0000000e+00, 0.0000000e+00,\n",
      "       0.0000000e+00, 0.0000000e+00, 0.0000000e+00, 0.0000000e+00,\n",
      "       0.0000000e+00, 0.0000000e+00, 0.0000000e+00, 0.0000000e+00,\n",
      "       0.0000000e+00, 0.0000000e+00, 0.0000000e+00, 0.0000000e+00,\n",
      "       0.0000000e+00, 0.0000000e+00, 0.0000000e+00, 0.0000000e+00,\n",
      "       0.0000000e+00, 0.0000000e+00, 0.0000000e+00, 0.0000000e+00,\n",
      "       0.0000000e+00, 0.0000000e+00, 0.0000000e+00, 0.0000000e+00,\n",
      "       0.0000000e+00, 0.0000000e+00, 0.0000000e+00, 0.0000000e+00,\n",
      "       0.0000000e+00, 0.0000000e+00, 0.0000000e+00, 0.0000000e+00,\n",
      "       0.0000000e+00, 0.0000000e+00, 0.0000000e+00, 0.0000000e+00,\n",
      "       0.0000000e+00, 0.0000000e+00, 0.0000000e+00, 0.0000000e+00,\n",
      "       0.0000000e+00, 0.0000000e+00, 0.0000000e+00, 0.0000000e+00,\n",
      "       0.0000000e+00, 0.0000000e+00, 0.0000000e+00, 0.0000000e+00,\n",
      "       0.0000000e+00, 0.0000000e+00, 0.0000000e+00, 0.0000000e+00,\n",
      "       0.0000000e+00, 0.0000000e+00, 0.0000000e+00, 0.0000000e+00,\n",
      "       0.0000000e+00, 0.0000000e+00, 0.0000000e+00, 0.0000000e+00,\n",
      "       0.0000000e+00, 0.0000000e+00, 0.0000000e+00], dtype=float32), 1)\n"
     ]
    }
   ],
   "source": [
    "datasets = []\n",
    "for i,j in zip(new_df,match_result):\n",
    "    datasets.append((i,j))\n",
    "print(datasets[0])"
   ]
  },
  {
   "cell_type": "code",
   "execution_count": 69,
   "metadata": {},
   "outputs": [
    {
     "name": "stdout",
     "output_type": "stream",
     "text": [
      "22288\n"
     ]
    }
   ],
   "source": [
    "#ここからモデル作り\n",
    "train_number = int(len(datasets) * 0.6)\n",
    "print(train_number)\n",
    "train_and_valid = int(len(datasets) * 0.8)\n",
    "test_number = int(len(datasets) * 0.2)\n",
    "train_valid_datasets = datasets[0:train_and_valid]\n",
    "train = train_valid_datasets[0:train_number]\n",
    "validation = train_valid_datasets[train_number:len(train_valid_datasets)]\n",
    "test = datasets[train_and_valid:len(datasets)]"
   ]
  },
  {
   "cell_type": "markdown",
   "metadata": {},
   "source": [
    "Iteratorの作成\n",
    "\n",
    "Iterator:データセットから決まった数のデータとラベルを取得し、それらを束ねてミニバッチを作成する機能を持ったもの。\n",
    "\n",
    "SerialIterator:データセットの中のデータを順番に取り出してくるもっともシンプルなIterator"
   ]
  },
  {
   "cell_type": "markdown",
   "metadata": {},
   "source": [
    "chainはパラメータを持つ層(Link)をまとめておくためのクラス。\n",
    "モデルのパラメータの更新はOptimizerという機能が担う。\n",
    "chain.params()で更新されるパラメータ一覧が取得できる。"
   ]
  },
  {
   "cell_type": "code",
   "execution_count": 81,
   "metadata": {},
   "outputs": [],
   "source": [
    "from chainer import iterators\n",
    "\n",
    "batchsize = 100\n",
    "\n",
    "train_iter = iterators.SerialIterator(train, batchsize)\n",
    "valid_iter = iterators.SerialIterator(\n",
    "    validation, batchsize, repeat=False, shuffle=False)\n",
    "test_iter = iterators.SerialIterator(\n",
    "    test, batchsize, repeat=False, shuffle=False)"
   ]
  },
  {
   "cell_type": "code",
   "execution_count": 82,
   "metadata": {},
   "outputs": [],
   "source": [
    "import chainer\n",
    "import chainer.links as L\n",
    "import chainer.functions as F\n",
    "\n",
    "class MLP(chainer.Chain):\n",
    "    def __init__(self, n_out=3):\n",
    "        super(MLP, self).__init__()\n",
    "        \n",
    "        with self.init_scope():\n",
    "            self.l1 = L.Linear(None, 200)\n",
    "            self.l2 = L.Linear(None, 100)\n",
    "            self.l3 = L.Linear(None, n_out)\n",
    "    \n",
    "    def __call__(self, x):\n",
    "        h1 = F.relu(self.l1(x))\n",
    "        h2 = F.relu(self.l2(h1))\n",
    "        return self.l3(h2)\n",
    "    \n",
    "gpu_id = -1  # CPUを用いる場合は、この値を-1にしてください\n",
    "\n",
    "#net = MLP()\n",
    "\n",
    "#if gpu_id >= 0:\n",
    " #   net.to_gpu(gpu_id)"
   ]
  },
  {
   "cell_type": "code",
   "execution_count": 83,
   "metadata": {},
   "outputs": [],
   "source": [
    "from chainer import optimizers, training\n",
    "from chainer.training import extensions\n",
    "\n",
    "def  train_and_validate(\n",
    "        model, optimizer, train, validation, n_epoch, batchsize, device):\n",
    "    \n",
    "    # 1. deviceがgpuであれば、gpuにモデルのデータを転送する\n",
    "    if device >= 0:\n",
    "        model.to_gpu(device)\n",
    "        \n",
    "    # 2. Optimizerを設定する\n",
    "    optimizer.setup(model)\n",
    "    \n",
    "    # 3. DatasetからIteratorを作成する\n",
    "    train_iter = chainer.iterators.SerialIterator(train, batchsize)\n",
    "    validation_iter = chainer.iterators.SerialIterator(\n",
    "        validation, batchsize, repeat=False, shuffle=False)\n",
    "    \n",
    "    # 4. Updater・Trainerを作成する\n",
    "    updater = training.StandardUpdater(train_iter, optimizer, device=device)\n",
    "    trainer = chainer.training.Trainer(updater, (n_epoch, 'epoch'), out='out')\n",
    "    \n",
    "    # 5. Trainerの機能を拡張する\n",
    "    trainer.extend(extensions.LogReport())\n",
    "    trainer.extend(extensions.Evaluator(validation_iter, model, device=device), name='val')\n",
    "    trainer.extend(extensions.PrintReport(\n",
    "        ['epoch', 'main/loss', 'main/accuracy', 'val/main/loss', 'val/main/accuracy', 'elapsed_time']))\n",
    "    trainer.extend(extensions.PlotReport(\n",
    "        ['main/loss', 'val/main/loss'],x_key='epoch', file_name='loss.png'))\n",
    "    trainer.extend(extensions.PlotReport(\n",
    "        ['main/accuracy', 'val/main/accuracy'], x_key='epoch', file_name='accuracy.png'))\n",
    "    trainer.extend(extensions.dump_graph('main/loss'))\n",
    "    \n",
    "    # 6. 訓練を開始する\n",
    "    trainer.run()"
   ]
  },
  {
   "cell_type": "code",
   "execution_count": 88,
   "metadata": {},
   "outputs": [],
   "source": [
    "device = -1  # specify gpu id. if device == -1, use cpu\n",
    "n_epoch = 20  # Only 5 epochs\n",
    "batchsize = 100\n",
    "\n",
    "model = MLP() \n",
    "classifier_model = L.Classifier(model)\n",
    "optimizer = optimizers.Adam()"
   ]
  },
  {
   "cell_type": "code",
   "execution_count": 89,
   "metadata": {},
   "outputs": [
    {
     "name": "stdout",
     "output_type": "stream",
     "text": [
      "epoch       main/loss   main/accuracy  val/main/loss  val/main/accuracy  elapsed_time\n",
      "\u001b[J1           1.00073     0.535561       1.09284        0.447117           1.23271       \n",
      "\u001b[J2           0.994339    0.536054       1.08376        0.447117           2.93626       \n",
      "\u001b[J3           0.993207    0.535561       1.08852        0.447117           4.32088       \n",
      "\u001b[J4           0.992457    0.536413       1.08611        0.443724           5.90419       \n",
      "\u001b[J5           0.991628    0.536413       1.08728        0.443724           7.81762       \n",
      "\u001b[J6           0.991419    0.537354       1.09119        0.443057           9.5116        \n",
      "\u001b[J7           0.99137     0.536951       1.09255        0.443057           11.2733       \n",
      "\u001b[J8           0.99096     0.53704        1.08899        0.442657           12.8821       \n",
      "\u001b[J9           0.990519    0.537432       1.09283        0.443057           14.6756       \n",
      "\u001b[J10          0.990695    0.537399       1.09276        0.443057           16.3808       \n",
      "\u001b[J11          0.990585    0.537265       1.10447        0.443724           18.0639       \n",
      "\u001b[J12          0.990428    0.537309       1.0949         0.443057           19.7535       \n",
      "\u001b[J13          0.990186    0.537848       1.0896         0.443324           21.3965       \n",
      "\u001b[J14          0.99078     0.536771       1.10323        0.443057           23.0273       \n",
      "\u001b[J15          0.989716    0.537354       1.09153        0.443057           24.673        \n",
      "\u001b[J16          0.990465    0.537085       1.09669        0.443324           26.2971       \n",
      "\u001b[J17          0.989772    0.536982       1.09193        0.443724           28.0759       \n",
      "\u001b[J18          0.990084    0.537444       1.09284        0.443057           30.0735       \n",
      "\u001b[J19          0.989723    0.536861       1.08924        0.443057           31.988        \n",
      "\u001b[J20          0.990128    0.537623       1.09575        0.443324           33.9213       \n"
     ]
    }
   ],
   "source": [
    "train_and_validate(\n",
    "    classifier_model, optimizer, train, validation, n_epoch, batchsize, device)"
   ]
  },
  {
   "cell_type": "code",
   "execution_count": 90,
   "metadata": {},
   "outputs": [],
   "source": [
    "import pydot\n",
    "from IPython.display import Image, display\n",
    "\n",
    "def show_graph():\n",
    "    graph = pydot.graph_from_dot_file('out/cg.dot') # load from .dot file\n",
    "    graph[0].write_png('graph.png')\n",
    "    display(Image('graph.png', width=600, height=600))"
   ]
  },
  {
   "cell_type": "code",
   "execution_count": 91,
   "metadata": {},
   "outputs": [],
   "source": [
    "def show_loss_and_accuracy():\n",
    "    display(Image(filename='out/loss.png'))\n",
    "    display(Image(filename='out/accuracy.png'))"
   ]
  },
  {
   "cell_type": "code",
   "execution_count": 92,
   "metadata": {},
   "outputs": [
    {
     "data": {
      "image/png": "[encoded data removed]",
      "text/plain": [
       "<IPython.core.display.Image object>"
      ]
     },
     "metadata": {},
     "output_type": "display_data"
    },
    {
     "data": {
      "image/png": "[encoded data removed]",
      "text/plain": [
       "<IPython.core.display.Image object>"
      ]
     },
     "metadata": {},
     "output_type": "display_data"
    }
   ],
   "source": [
    "show_loss_and_accuracy()"
   ]
  },
  {
   "cell_type": "code",
   "execution_count": null,
   "metadata": {},
   "outputs": [],
   "source": []
  },
  {
   "cell_type": "code",
   "execution_count": null,
   "metadata": {},
   "outputs": [],
   "source": []
  }
 ],
 "metadata": {
  "kernelspec": {
   "display_name": "Python 3",
   "language": "python",
   "name": "python3"
  },
  "language_info": {
   "codemirror_mode": {
    "name": "ipython",
    "version": 3
   },
   "file_extension": ".py",
   "mimetype": "text/x-python",
   "name": "python",
   "nbconvert_exporter": "python",
   "pygments_lexer": "ipython3",
   "version": "3.6.4"
  }
 },
 "nbformat": 4,
 "nbformat_minor": 2
}

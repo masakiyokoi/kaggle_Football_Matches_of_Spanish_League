{
 "cells": [
  {
   "cell_type": "code",
   "execution_count": 93,
   "metadata": {},
   "outputs": [
    {
     "name": "stdout",
     "output_type": "stream",
     "text": [
      "37147 1\n"
     ]
    }
   ],
   "source": [
    "import pandas as pd\n",
    "\n",
    "list = []\n",
    "df = pd.read_csv('FMEL_Dataset.csv')\n",
    "colums = df.columns\n",
    "#print(colums)\n",
    "localGoals = df.localGoals\n",
    "visitorGoals = df.visitorGoals\n",
    "concat_goals = pd.concat([localGoals, visitorGoals], axis=1,join_axes=[localGoals.index])\n",
    "#print(concat_goals)\n",
    "concat_goals= concat_goals.values\n",
    "print(len(concat_goals),concat_goals[0][1])"
   ]
  },
  {
   "cell_type": "code",
   "execution_count": 94,
   "metadata": {},
   "outputs": [
    {
     "data": {
      "text/plain": [
       "1"
      ]
     },
     "execution_count": 94,
     "metadata": {},
     "output_type": "execute_result"
    }
   ],
   "source": [
    "concat_goals[0][1]\n",
    "#mapのイテレータをリストに戻せない\n",
    "#match_result = []\n",
    "#match_result = list(map(lambda a: a[0][0]-a[0][1], concat_goals))\n",
    "#print(match_result)"
   ]
  },
  {
   "cell_type": "code",
   "execution_count": 95,
   "metadata": {},
   "outputs": [],
   "source": [
    "import numpy as np\n",
    "#左のチームの主観\n",
    "def distinct(goals):\n",
    "    match_result = []\n",
    "    win = 3\n",
    "    lose = 0\n",
    "    draw = 1\n",
    "    #print(goals)\n",
    "    for a in goals:\n",
    "        result = a[0] - a[1]\n",
    "        if result > 0:\n",
    "            match_result.append(win)\n",
    "        elif result == 0:\n",
    "            match_result.append(draw)\n",
    "        elif result < 0:\n",
    "            match_result.append(lose)\n",
    "    return match_result\n",
    "\n",
    "match_result = distinct(concat_goals)\n",
    "#リストか配列か\n",
    "#print(len(distinct(concat_goals)),np.array(match_result))\n",
    "#"
   ]
  },
  {
   "cell_type": "code",
   "execution_count": 96,
   "metadata": {},
   "outputs": [
    {
     "name": "stdout",
     "output_type": "stream",
     "text": [
      "(37147, 121)\n"
     ]
    }
   ],
   "source": [
    "#チーム名のembetting\n",
    "from sklearn.feature_extraction.text import CountVectorizer\n",
    "local_team = df.localTeam.values\n",
    "count = CountVectorizer()\n",
    "bag = count.fit_transform(local_team)\n",
    "#print(count.vocabulary_)\n",
    "embetting_name = bag.toarray()\n",
    "#embetting_name= embetting_name.tolist()\n",
    "print(embetting_name.shape)"
   ]
  },
  {
   "cell_type": "code",
   "execution_count": 97,
   "metadata": {},
   "outputs": [
    {
     "name": "stdout",
     "output_type": "stream",
     "text": [
      "(37147,)\n",
      "21938400\n",
      "(37147,)\n"
     ]
    }
   ],
   "source": [
    "df_round = df['round'].values\n",
    "print(df_round.shape)\n",
    "timestamp = df['timestamp'].values\n",
    "print(timestamp[0])\n",
    "division = df['division'].values\n",
    "print(division.shape)"
   ]
  },
  {
   "cell_type": "code",
   "execution_count": 98,
   "metadata": {},
   "outputs": [],
   "source": [
    "#df_season = df.season.values.tolist()\n",
    "#print(df_season)\n",
    "#df_season = map(lambda a: a.split('-'), df_season)\n",
    "#print(df_season)"
   ]
  },
  {
   "cell_type": "code",
   "execution_count": 99,
   "metadata": {},
   "outputs": [
    {
     "name": "stdout",
     "output_type": "stream",
     "text": [
      "(37147, 2)\n"
     ]
    }
   ],
   "source": [
    "df_season = df.season.values.tolist()\n",
    "season = [a.split('-') for a in df_season]\n",
    "for i in range(len(season)):\n",
    "    season[i] = [int(d) for d in season[i]]\n",
    "season = np.array(season)\n",
    "print(season.shape)"
   ]
  },
  {
   "cell_type": "code",
   "execution_count": 100,
   "metadata": {},
   "outputs": [
    {
     "name": "stdout",
     "output_type": "stream",
     "text": [
      "(37147, 3)\n",
      "37147\n"
     ]
    }
   ],
   "source": [
    "#date\n",
    "df_date = df['date'].values\n",
    "\n",
    "#df_date = list(map(lambda d : d.split('/'),df_date))\n",
    "#df_date = [d.strip('0') for d in df_date]\n",
    "df_date = [d.split('/') for d in df_date]\n",
    "\n",
    "for i in range(len(df_date)):\n",
    "    df_date[i] = [int(d) for d in df_date[i]]\n",
    "df_date = np.array(df_date)\n",
    "print(df_date.shape)\n",
    "print(len(df_date))"
   ]
  },
  {
   "cell_type": "code",
   "execution_count": 101,
   "metadata": {},
   "outputs": [],
   "source": [
    "#df_new = pd.DataFrame({'season': season, 'division': division, 'round': df_round,'name': embetting_name,'date': df_date, 'timestamp':timestamp})\n",
    "#df_new[:5]\n",
    "#df_new_list = df_new.values\n",
    "#print(df_new_list[:5])\n",
    "#print(df_new_list[0])"
   ]
  },
  {
   "cell_type": "code",
   "execution_count": 113,
   "metadata": {},
   "outputs": [
    {
     "name": "stdout",
     "output_type": "stream",
     "text": [
      "[    1970       71        1        1        0        0        0        0\n",
      "        0        0        0        0        0        0        0        0\n",
      "        0        0        1        0        0        0        0        0\n",
      "        1        0        0        0        0        0        0        0\n",
      "        0        0        0        0        0        0        0        1\n",
      "        0        0        0        0        0        0        0        0\n",
      "        0        0        0        0        0        0        0        0\n",
      "        0        0        0        0        0        0        0        0\n",
      "        0        0        0        0        0        0        0        0\n",
      "        0        0        0        0        0        0        0        0\n",
      "        0        0        0        0        0        0        0        0\n",
      "        0        0        0        0        0        0        0        0\n",
      "        0        0        0        0        0        0        0        0\n",
      "        0        0        0        0        0        0        0        0\n",
      "        0        0        0        0        0        0        0        0\n",
      "        0        0        0        0        0       12        9     1970\n",
      " 21938400]\n"
     ]
    }
   ],
   "source": [
    "new_df = np.zeros((37147,129),dtype=np.int)\n",
    "\n",
    "for i in range(len(df_date)):\n",
    "    new_df[i] =  np.hstack((\n",
    "        season[i],\n",
    "        division[i],\n",
    "        df_round[i],\n",
    "        embetting_name[i],\n",
    "        df_date[i],\n",
    "        timestamp[i],\n",
    "    ))\n",
    "    \n",
    "print(new_df[0])"
   ]
  },
  {
   "cell_type": "code",
   "execution_count": 121,
   "metadata": {},
   "outputs": [
    {
     "name": "stdout",
     "output_type": "stream",
     "text": [
      "[[0 0 1 ... 0 0 0]\n",
      " [0 0 1 ... 0 0 0]\n",
      " [0 0 1 ... 0 0 0]\n",
      " ...\n",
      " [1 0 2 ... 0 1 1]\n",
      " [1 0 2 ... 0 1 1]\n",
      " [1 0 2 ... 0 1 1]]\n"
     ]
    }
   ],
   "source": [
    "def zscore(x):\n",
    "    xmean = x.mean()\n",
    "    xstd = np.std(x)\n",
    "    zscore = (x-xmean)/xstd\n",
    "    return zscore\n",
    "\n",
    "def min_max(x):\n",
    "    min = x.min()\n",
    "    max = x.max()\n",
    "    result = (x-min)/(max-min)\n",
    "    return result\n",
    "new_df[:,0] = min_max(new_df[:,0])\n",
    "new_df[:,1] = min_max(new_df[:,1])\n",
    "new_df[:,125] = min_max(new_df[:,125])\n",
    "new_df[:,126] = min_max(new_df[:,126])\n",
    "new_df[:,127] = min_max(new_df[:,127])\n",
    "new_df[:,128] = min_max(new_df[:,128])\n",
    "print(new_df)"
   ]
  },
  {
   "cell_type": "code",
   "execution_count": 107,
   "metadata": {},
   "outputs": [
    {
     "name": "stdout",
     "output_type": "stream",
     "text": [
      "[[        -1         71          1 ...          9       1970   21938400]\n",
      " [        -1         71          1 ...          9       1970   21938400]\n",
      " [        -1         71          1 ...          9       1970   21938400]\n",
      " ...\n",
      " [         1         18          2 ...          6       2018 1527890400]\n",
      " [         1         18          2 ...          6       2018 1527890400]\n",
      " [         1         18          2 ...          6       2018 1527890400]]\n"
     ]
    },
    {
     "name": "stderr",
     "output_type": "stream",
     "text": [
      "/Users/user/.pyenv/versions/anaconda3-5.1.0/lib/python3.6/site-packages/sklearn/utils/validation.py:475: DataConversionWarning: Data with input dtype int64 was converted to float64 by StandardScaler.\n",
      "  warnings.warn(msg, DataConversionWarning)\n"
     ]
    }
   ],
   "source": [
    "from sklearn import preprocessing, cross_validation\n",
    "sc=preprocessing.StandardScaler()\n",
    "sc.fit(new_df[:,0].reshape(-1, 1))\n",
    "X_std=sc.transform(new_df[:,0].reshape(-1, 1))\n",
    "new_df[:,0] = X_std.reshape(1,-1)\n",
    "print(new_df)"
   ]
  },
  {
   "cell_type": "code",
   "execution_count": 149,
   "metadata": {},
   "outputs": [
    {
     "name": "stdout",
     "output_type": "stream",
     "text": [
      "(37147,)\n"
     ]
    }
   ],
   "source": [
    "#試合結果\n",
    "match_result = np.array(match_result)\n",
    "print(match_result.shape)"
   ]
  },
  {
   "cell_type": "code",
   "execution_count": 159,
   "metadata": {},
   "outputs": [
    {
     "data": {
      "text/plain": [
       "37147"
      ]
     },
     "execution_count": 159,
     "metadata": {},
     "output_type": "execute_result"
    }
   ],
   "source": [
    "datasets = []\n",
    "for i,j in zip(new_df,match_result.reshape(-1,1)):\n",
    "    datasets.append((i,j))\n",
    "len(datasets) "
   ]
  },
  {
   "cell_type": "code",
   "execution_count": 177,
   "metadata": {},
   "outputs": [],
   "source": [
    "from chainer.datasets import split_dataset_random\n",
    "train_number = int(len(datasets) * 0.6)\n",
    "train_and_valid = int(len(datasets) * 0.8)\n",
    "test = int(len(datasets) * 0.2)\n",
    "train_valid_datasets = datasets[0:train_and_valid]\n",
    "train = train_valid_datasets[0:train_number]\n",
    "valid = train_valid_datasets[train_number+1:len(train_valid_datasets)]\n",
    "test_datasets = datasets[train_and_valid+1:len(datasets)]"
   ]
  },
  {
   "cell_type": "code",
   "execution_count": 161,
   "metadata": {},
   "outputs": [],
   "source": [
    "#indexes = np.arange(0, len(match_result), 1)"
   ]
  },
  {
   "cell_type": "code",
   "execution_count": 183,
   "metadata": {},
   "outputs": [
    {
     "name": "stdout",
     "output_type": "stream",
     "text": [
      "(array([0, 0, 1, 1, 0, 0, 0, 0, 0, 0, 0, 0, 0, 0, 0, 0, 0, 0, 1, 0, 0, 0,\n",
      "       0, 0, 1, 0, 0, 0, 0, 0, 0, 0, 0, 0, 0, 0, 0, 0, 0, 1, 0, 0, 0, 0,\n",
      "       0, 0, 0, 0, 0, 0, 0, 0, 0, 0, 0, 0, 0, 0, 0, 0, 0, 0, 0, 0, 0, 0,\n",
      "       0, 0, 0, 0, 0, 0, 0, 0, 0, 0, 0, 0, 0, 0, 0, 0, 0, 0, 0, 0, 0, 0,\n",
      "       0, 0, 0, 0, 0, 0, 0, 0, 0, 0, 0, 0, 0, 0, 0, 0, 0, 0, 0, 0, 0, 0,\n",
      "       0, 0, 0, 0, 0, 0, 0, 0, 0, 0, 0, 0, 0, 0, 0, 0, 0, 0, 0]), array([1]))\n"
     ]
    }
   ],
   "source": [
    "print(train[0])"
   ]
  },
  {
   "cell_type": "markdown",
   "metadata": {},
   "source": [
    "Iteratorの作成\n",
    "\n",
    "Iterator:データセットから決まった数のデータとラベルを取得し、それらを束ねてミニバッチを作成する機能を持ったもの。\n",
    "\n",
    "SerialIterator:データセットの中のデータを順番に取り出してくるもっともシンプルなIterator"
   ]
  },
  {
   "cell_type": "code",
   "execution_count": 186,
   "metadata": {},
   "outputs": [],
   "source": [
    "#モデルの作成\n",
    "from chainer import iterators\n",
    "\n",
    "batchsize = 128\n",
    "\n",
    "train_iter = iterators.SerialIterator(train, batchsize)\n",
    "valid_size = iterators.SerialIterator(valid, batchsize, repeat=False, shuffle = False)\n",
    "test_iter = iterators.SerialIterator(test, batchsize, repeat = False, shuffle = False)"
   ]
  },
  {
   "cell_type": "code",
   "execution_count": 187,
   "metadata": {},
   "outputs": [],
   "source": [
    "import chainer.links as L\n",
    "import chainer.functions as F"
   ]
  },
  {
   "cell_type": "markdown",
   "metadata": {},
   "source": [
    "chainはパラメータを持つ層(Link)をまとめておくためのクラス。\n",
    "モデルのパラメータの更新はOptimizerという機能が担う。\n",
    "chain.params()で更新されるパラメータ一覧が取得できる。"
   ]
  }
 ],
 "metadata": {
  "kernelspec": {
   "display_name": "Python 3",
   "language": "python",
   "name": "python3"
  },
  "language_info": {
   "codemirror_mode": {
    "name": "ipython",
    "version": 3
   },
   "file_extension": ".py",
   "mimetype": "text/x-python",
   "name": "python",
   "nbconvert_exporter": "python",
   "pygments_lexer": "ipython3",
   "version": "3.6.4"
  }
 },
 "nbformat": 4,
 "nbformat_minor": 2
}

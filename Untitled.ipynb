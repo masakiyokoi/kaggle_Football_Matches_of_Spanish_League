{
 "cells": [
  {
   "cell_type": "code",
   "execution_count": 161,
   "metadata": {},
   "outputs": [
    {
     "name": "stdout",
     "output_type": "stream",
     "text": [
      "37147 1\n"
     ]
    }
   ],
   "source": [
    "import pandas as pd\n",
    "\n",
    "list = []\n",
    "df = pd.read_csv('FMEL_Dataset.csv')\n",
    "colums = df.columns\n",
    "#print(colums)\n",
    "localGoals = df.localGoals\n",
    "visitorGoals = df.visitorGoals\n",
    "concat_goals = pd.concat([localGoals, visitorGoals], axis=1,join_axes=[localGoals.index])\n",
    "#print(concat_goals)\n",
    "concat_goals= concat_goals.values\n",
    "print(len(concat_goals),concat_goals[0][1])"
   ]
  },
  {
   "cell_type": "code",
   "execution_count": 162,
   "metadata": {},
   "outputs": [
    {
     "data": {
      "text/plain": [
       "1"
      ]
     },
     "execution_count": 162,
     "metadata": {},
     "output_type": "execute_result"
    }
   ],
   "source": [
    "concat_goals[0][1]\n",
    "#mapのイテレータをリストに戻せない\n",
    "#match_result = []\n",
    "#match_result = list(map(lambda a: a[0][0]-a[0][1], concat_goals))\n",
    "#print(match_result)"
   ]
  },
  {
   "cell_type": "code",
   "execution_count": 163,
   "metadata": {},
   "outputs": [],
   "source": [
    "import numpy as np\n",
    "#左のチームの主観\n",
    "def distinct(goals):\n",
    "    match_result = []\n",
    "    win = 3\n",
    "    lose = 0\n",
    "    draw = 1\n",
    "    #print(goals)\n",
    "    for a in goals:\n",
    "        result = a[0] - a[1]\n",
    "        if result > 0:\n",
    "            match_result.append(win)\n",
    "        elif result == 0:\n",
    "            match_result.append(draw)\n",
    "        elif result < 0:\n",
    "            match_result.append(lose)\n",
    "    return match_result\n",
    "\n",
    "match_result = distinct(concat_goals)\n",
    "#リストか配列か\n",
    "#print(len(distinct(concat_goals)),np.array(match_result))\n",
    "#"
   ]
  },
  {
   "cell_type": "code",
   "execution_count": 194,
   "metadata": {},
   "outputs": [
    {
     "name": "stdout",
     "output_type": "stream",
     "text": [
      "(37147, 121)\n"
     ]
    }
   ],
   "source": [
    "#チーム名のembetting\n",
    "from sklearn.feature_extraction.text import CountVectorizer\n",
    "local_team = df.localTeam.values\n",
    "count = CountVectorizer()\n",
    "bag = count.fit_transform(local_team)\n",
    "#print(count.vocabulary_)\n",
    "embetting_name = bag.toarray()\n",
    "#embetting_name= embetting_name.tolist()\n",
    "print(embetting_name.shape)"
   ]
  },
  {
   "cell_type": "code",
   "execution_count": 212,
   "metadata": {},
   "outputs": [
    {
     "name": "stdout",
     "output_type": "stream",
     "text": [
      "(37147,)\n",
      "21938400\n",
      "(37147,)\n"
     ]
    }
   ],
   "source": [
    "df_round = df['round'].values\n",
    "print(df_round.shape)\n",
    "timestamp = df['timestamp'].values\n",
    "print(timestamp[0])\n",
    "division = df['division'].values\n",
    "print(division.shape)"
   ]
  },
  {
   "cell_type": "code",
   "execution_count": 166,
   "metadata": {},
   "outputs": [],
   "source": [
    "#df_season = df.season.values.tolist()\n",
    "#print(df_season)\n",
    "#df_season = map(lambda a: a.split('-'), df_season)\n",
    "#print(df_season)"
   ]
  },
  {
   "cell_type": "code",
   "execution_count": 180,
   "metadata": {},
   "outputs": [
    {
     "name": "stdout",
     "output_type": "stream",
     "text": [
      "(37147, 2)\n"
     ]
    }
   ],
   "source": [
    "df_season = df.season.values.tolist()\n",
    "season = [a.split('-') for a in df_season]\n",
    "for i in range(len(season)):\n",
    "    season[i] = [int(d) for d in season[i]]\n",
    "season = np.array(season)\n",
    "print(season.shape)"
   ]
  },
  {
   "cell_type": "code",
   "execution_count": 202,
   "metadata": {},
   "outputs": [
    {
     "name": "stdout",
     "output_type": "stream",
     "text": [
      "(37147, 3)\n",
      "37147\n"
     ]
    }
   ],
   "source": [
    "#date\n",
    "df_date = df['date'].values\n",
    "\n",
    "#df_date = list(map(lambda d : d.split('/'),df_date))\n",
    "#df_date = [d.strip('0') for d in df_date]\n",
    "df_date = [d.split('/') for d in df_date]\n",
    "\n",
    "for i in range(len(df_date)):\n",
    "    df_date[i] = [int(d) for d in df_date[i]]\n",
    "df_date = np.array(df_date)\n",
    "print(df_date.shape)\n",
    "print(len(df_date))"
   ]
  },
  {
   "cell_type": "code",
   "execution_count": 201,
   "metadata": {},
   "outputs": [],
   "source": [
    "#df_new = pd.DataFrame({'season': season, 'division': division, 'round': df_round,'name': embetting_name,'date': df_date, 'timestamp':timestamp})\n",
    "#df_new[:5]\n",
    "#df_new_list = df_new.values\n",
    "#print(df_new_list[:5])\n",
    "#print(df_new_list[0])"
   ]
  },
  {
   "cell_type": "code",
   "execution_count": 238,
   "metadata": {},
   "outputs": [
    {
     "name": "stdout",
     "output_type": "stream",
     "text": [
      "[[0 0 0 ... 0 0 0]\n",
      " [0 0 0 ... 0 0 0]\n",
      " [0 0 0 ... 0 0 0]\n",
      " ...\n",
      " [0 0 0 ... 0 0 0]\n",
      " [0 0 0 ... 0 0 0]\n",
      " [0 0 0 ... 0 0 0]]\n",
      "(37147, 129)\n"
     ]
    }
   ],
   "source": [
    "new_df = np.zeros((37147,129),dtype=np.int)\n",
    "\n",
    "for i in range(len(df_date)):\n",
    "    new_df[i] =  np.hstack((\n",
    "        season[i],\n",
    "        division[i],\n",
    "        df_round[i],\n",
    "        embetting_name[i],\n",
    "        df_date[i],\n",
    "        timestamp[i],\n",
    "    ))\n",
    "    \n",
    "print(new_df.shape)"
   ]
  },
  {
   "cell_type": "code",
   "execution_count": null,
   "metadata": {},
   "outputs": [],
   "source": []
  }
 ],
 "metadata": {
  "kernelspec": {
   "display_name": "Python 3",
   "language": "python",
   "name": "python3"
  },
  "language_info": {
   "codemirror_mode": {
    "name": "ipython",
    "version": 3
   },
   "file_extension": ".py",
   "mimetype": "text/x-python",
   "name": "python",
   "nbconvert_exporter": "python",
   "pygments_lexer": "ipython3",
   "version": "3.6.4"
  }
 },
 "nbformat": 4,
 "nbformat_minor": 2
}

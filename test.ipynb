{
 "cells": [
  {
   "cell_type": "code",
   "execution_count": 2,
   "metadata": {},
   "outputs": [
    {
     "name": "stdout",
     "output_type": "stream",
     "text": [
      "37147 1\n"
     ]
    }
   ],
   "source": [
    "import pandas as pd\n",
    "\n",
    "list = []\n",
    "df = pd.read_csv('FMEL_Dataset.csv')\n",
    "colums = df.columns\n",
    "#print(colums)\n",
    "localGoals = df.localGoals\n",
    "visitorGoals = df.visitorGoals\n",
    "concat_goals = pd.concat([localGoals, visitorGoals], axis=1,join_axes=[localGoals.index])\n",
    "#print(concat_goals)\n",
    "concat_goals= concat_goals.values\n",
    "print(len(concat_goals),concat_goals[0][1])"
   ]
  },
  {
   "cell_type": "code",
   "execution_count": 3,
   "metadata": {},
   "outputs": [
    {
     "data": {
      "text/plain": [
       "1"
      ]
     },
     "execution_count": 3,
     "metadata": {},
     "output_type": "execute_result"
    }
   ],
   "source": [
    "concat_goals[0][1]\n",
    "#mapのイテレータをリストに戻せない\n",
    "#match_result = []\n",
    "#match_result = list(map(lambda a: a[0][0]-a[0][1], concat_goals))\n",
    "#print(match_result)"
   ]
  },
  {
   "cell_type": "code",
   "execution_count": 58,
   "metadata": {},
   "outputs": [],
   "source": [
    "import numpy as np\n",
    "#左のチームの主観\n",
    "def distinct(goals):\n",
    "    match_result = []\n",
    "    win = 2\n",
    "    lose = 0\n",
    "    draw = 1\n",
    "    #print(goals)\n",
    "    for a in goals:\n",
    "        result = a[0] - a[1]\n",
    "        if result > 0:\n",
    "            match_result.append(win)\n",
    "        elif result == 0:\n",
    "            match_result.append(draw)\n",
    "        elif result < 0:\n",
    "            match_result.append(lose)\n",
    "    return match_result\n",
    "\n",
    "match_result = distinct(concat_goals)\n",
    "#リストか配列か\n",
    "#print(len(distinct(concat_goals)),np.array(match_result))\n",
    "#"
   ]
  },
  {
   "cell_type": "code",
   "execution_count": 59,
   "metadata": {},
   "outputs": [
    {
     "name": "stdout",
     "output_type": "stream",
     "text": [
      "(37147, 121)\n"
     ]
    }
   ],
   "source": [
    "#チーム名のembetting\n",
    "from sklearn.feature_extraction.text import CountVectorizer\n",
    "local_team = df.localTeam.values\n",
    "count = CountVectorizer()\n",
    "bag = count.fit_transform(local_team)\n",
    "#print(count.vocabulary_)\n",
    "embetting_name = bag.toarray()\n",
    "#embetting_name= embetting_name.tolist()\n",
    "print(embetting_name.shape)"
   ]
  },
  {
   "cell_type": "code",
   "execution_count": 60,
   "metadata": {},
   "outputs": [
    {
     "name": "stdout",
     "output_type": "stream",
     "text": [
      "(37147,)\n",
      "21938400\n",
      "(37147,)\n"
     ]
    }
   ],
   "source": [
    "df_round = df['round'].values\n",
    "print(df_round.shape)\n",
    "timestamp = df['timestamp'].values\n",
    "print(timestamp[0])\n",
    "division = df['division'].values\n",
    "print(division.shape)"
   ]
  },
  {
   "cell_type": "code",
   "execution_count": 61,
   "metadata": {},
   "outputs": [],
   "source": [
    "#df_season = df.season.values.tolist()\n",
    "#print(df_season)\n",
    "#df_season = map(lambda a: a.split('-'), df_season)\n",
    "#print(df_season)"
   ]
  },
  {
   "cell_type": "code",
   "execution_count": 62,
   "metadata": {},
   "outputs": [
    {
     "name": "stdout",
     "output_type": "stream",
     "text": [
      "(37147, 2)\n"
     ]
    }
   ],
   "source": [
    "df_season = df.season.values.tolist()\n",
    "season = [a.split('-') for a in df_season]\n",
    "for i in range(len(season)):\n",
    "    season[i] = [int(d) for d in season[i]]\n",
    "season = np.array(season)\n",
    "print(season.shape)"
   ]
  },
  {
   "cell_type": "code",
   "execution_count": 63,
   "metadata": {},
   "outputs": [
    {
     "name": "stdout",
     "output_type": "stream",
     "text": [
      "(37147, 3)\n",
      "37147\n"
     ]
    }
   ],
   "source": [
    "#date\n",
    "df_date = df['date'].values\n",
    "\n",
    "#df_date = list(map(lambda d : d.split('/'),df_date))\n",
    "#df_date = [d.strip('0') for d in df_date]\n",
    "df_date = [d.split('/') for d in df_date]\n",
    "\n",
    "for i in range(len(df_date)):\n",
    "    df_date[i] = [int(d) for d in df_date[i]]\n",
    "df_date = np.array(df_date)\n",
    "print(df_date.shape)\n",
    "print(len(df_date))"
   ]
  },
  {
   "cell_type": "code",
   "execution_count": 64,
   "metadata": {},
   "outputs": [],
   "source": [
    "#df_new = pd.DataFrame({'season': season, 'division': division, 'round': df_round,'name': embetting_name,'date': df_date, 'timestamp':timestamp})\n",
    "#df_new[:5]\n",
    "#df_new_list = df_new.values\n",
    "#print(df_new_list[:5])\n",
    "#print(df_new_list[0])"
   ]
  },
  {
   "cell_type": "code",
   "execution_count": 65,
   "metadata": {},
   "outputs": [
    {
     "name": "stdout",
     "output_type": "stream",
     "text": [
      "[    1970       71        1        1        0        0        0        0\n",
      "        0        0        0        0        0        0        0        0\n",
      "        0        0        1        0        0        0        0        0\n",
      "        1        0        0        0        0        0        0        0\n",
      "        0        0        0        0        0        0        0        1\n",
      "        0        0        0        0        0        0        0        0\n",
      "        0        0        0        0        0        0        0        0\n",
      "        0        0        0        0        0        0        0        0\n",
      "        0        0        0        0        0        0        0        0\n",
      "        0        0        0        0        0        0        0        0\n",
      "        0        0        0        0        0        0        0        0\n",
      "        0        0        0        0        0        0        0        0\n",
      "        0        0        0        0        0        0        0        0\n",
      "        0        0        0        0        0        0        0        0\n",
      "        0        0        0        0        0        0        0        0\n",
      "        0        0        0        0        0       12        9     1970\n",
      " 21938400]\n"
     ]
    }
   ],
   "source": [
    "new_df = np.zeros((37147,129),dtype=np.int)\n",
    "\n",
    "for i in range(len(df_date)):\n",
    "    new_df[i] =  np.hstack((\n",
    "        season[i],\n",
    "        division[i],\n",
    "        df_round[i],\n",
    "        embetting_name[i],\n",
    "        df_date[i],\n",
    "        timestamp[i],\n",
    "    ))\n",
    "    \n",
    "print(new_df[0])"
   ]
  },
  {
   "cell_type": "code",
   "execution_count": 92,
   "metadata": {},
   "outputs": [
    {
     "data": {
      "text/plain": [
       "array([ 0.,  0.,  2., 27.,  0.,  0.,  0.,  0.,  0.,  0.,  0.,  0.,  0.,\n",
       "        0.,  0.,  0.,  0.,  0.,  0.,  0.,  0.,  0.,  0.,  0.,  0.,  0.,\n",
       "        0.,  0.,  0.,  0.,  0.,  0.,  0.,  0.,  0.,  0.,  0.,  0.,  0.,\n",
       "        0.,  0.,  0.,  0.,  0.,  0.,  0.,  0.,  0.,  0.,  0.,  0.,  0.,\n",
       "        0.,  0.,  0.,  0.,  0.,  0.,  0.,  0.,  0.,  0.,  0.,  0.,  0.,\n",
       "        0.,  0.,  0.,  0.,  0.,  0.,  0.,  0.,  0.,  0.,  0.,  0.,  0.,\n",
       "        0.,  0.,  0.,  0.,  0.,  0.,  0.,  1.,  0.,  0.,  0.,  0.,  0.,\n",
       "        0.,  0.,  0.,  0.,  0.,  0.,  0.,  0.,  0.,  0.,  0.,  0.,  0.,\n",
       "        0.,  0.,  0.,  0.,  0.,  0.,  0.,  0.,  0.,  0.,  0.,  0.,  0.,\n",
       "        0.,  0.,  0.,  0.,  0.,  0.,  0.,  0.,  0.,  0.,  0.,  0.],\n",
       "      dtype=float32)"
      ]
     },
     "execution_count": 92,
     "metadata": {},
     "output_type": "execute_result"
    }
   ],
   "source": [
    "import pprint\n",
    "list = __builtins__.list\n",
    "def zscore(x):\n",
    "    xmean = x.mean()\n",
    "    xstd = np.std(x)\n",
    "    zscore = (x-xmean)/xstd\n",
    "    return zscore\n",
    "\n",
    "def min_max(x):\n",
    "    min = x.min()\n",
    "    max = x.max()\n",
    "    result = (x-min)/(max-min)\n",
    "    return result\n",
    "new_df[:,0] = min_max(new_df[:,0])\n",
    "new_df[:,1] = min_max(new_df[:,1])\n",
    "new_df[:,125] = min_max(new_df[:,125])\n",
    "new_df[:,126] = min_max(new_df[:,126])\n",
    "new_df[:,127] = min_max(new_df[:,127])\n",
    "new_df[:,128] = min_max(new_df[:,128])\n",
    "new_df[500]"
   ]
  },
  {
   "cell_type": "code",
   "execution_count": 70,
   "metadata": {},
   "outputs": [],
   "source": [
    "#match_result = match_result.astype(np.int32)"
   ]
  },
  {
   "cell_type": "code",
   "execution_count": 71,
   "metadata": {},
   "outputs": [],
   "source": [
    "new_df = new_df.astype(np.float32)"
   ]
  },
  {
   "cell_type": "code",
   "execution_count": 72,
   "metadata": {},
   "outputs": [
    {
     "name": "stdout",
     "output_type": "stream",
     "text": [
      "(37147,)\n"
     ]
    }
   ],
   "source": [
    "#試合結果\n",
    "match_result = np.array(match_result)\n",
    "print(match_result.shape)"
   ]
  },
  {
   "cell_type": "code",
   "execution_count": 73,
   "metadata": {},
   "outputs": [
    {
     "name": "stdout",
     "output_type": "stream",
     "text": [
      "float32\n"
     ]
    }
   ],
   "source": [
    "datasets = []\n",
    "for i,j in zip(new_df,match_result):\n",
    "    datasets.append((i,j))\n",
    "print(datasets[0][0].dtype)"
   ]
  },
  {
   "cell_type": "code",
   "execution_count": 74,
   "metadata": {},
   "outputs": [],
   "source": [
    "#ここからモデル作り\n",
    "from chainer.datasets import split_dataset_random\n",
    "train_number = int(len(datasets) * 0.6)\n",
    "train_and_valid = int(len(datasets) * 0.8)\n",
    "test = int(len(datasets) * 0.2)\n",
    "train_valid_datasets = datasets[0:train_and_valid]\n",
    "train = train_valid_datasets[0:train_number]\n",
    "validation = train_valid_datasets[train_number+1:len(train_valid_datasets)]\n",
    "test = datasets[train_and_valid+1:len(datasets)]"
   ]
  },
  {
   "cell_type": "markdown",
   "metadata": {},
   "source": [
    "Iteratorの作成\n",
    "\n",
    "Iterator:データセットから決まった数のデータとラベルを取得し、それらを束ねてミニバッチを作成する機能を持ったもの。\n",
    "\n",
    "SerialIterator:データセットの中のデータを順番に取り出してくるもっともシンプルなIterator"
   ]
  },
  {
   "cell_type": "markdown",
   "metadata": {},
   "source": [
    "chainはパラメータを持つ層(Link)をまとめておくためのクラス。\n",
    "モデルのパラメータの更新はOptimizerという機能が担う。\n",
    "chain.params()で更新されるパラメータ一覧が取得できる。"
   ]
  },
  {
   "cell_type": "code",
   "execution_count": 76,
   "metadata": {},
   "outputs": [],
   "source": [
    "from chainer import iterators\n",
    "\n",
    "batchsize = 128\n",
    "\n",
    "train_iter = iterators.SerialIterator(train, batchsize)\n",
    "valid_iter = iterators.SerialIterator(\n",
    "    validation, batchsize, repeat=False, shuffle=False)\n",
    "test_iter = iterators.SerialIterator(\n",
    "    test, batchsize, repeat=False, shuffle=False)"
   ]
  },
  {
   "cell_type": "code",
   "execution_count": 78,
   "metadata": {},
   "outputs": [],
   "source": [
    "import chainer\n",
    "import chainer.links as L\n",
    "import chainer.functions as F\n",
    "\n",
    "class MLP(chainer.Chain):\n",
    "    def __init__(self, n_mid_units=100, n_out=3):\n",
    "        super(MLP, self).__init__()\n",
    "        \n",
    "        with self.init_scope():\n",
    "            self.l1 = L.Linear(129, n_mid_units)\n",
    "            self.l2 = L.Linear(n_mid_units, n_mid_units)\n",
    "            self.l3 = L.Linear(n_mid_units, n_out)\n",
    "    \n",
    "    def __call__(self, x):\n",
    "        h1 = F.relu(self.l1(x))\n",
    "        h2 = F.relu(self.l2(h1))\n",
    "        return self.l3(h2)\n",
    "    \n",
    "gpu_id = -1  # CPUを用いる場合は、この値を-1にしてください\n",
    "\n",
    "net = MLP()\n",
    "\n",
    "if gpu_id >= 0:\n",
    "    net.to_gpu(gpu_id)"
   ]
  },
  {
   "cell_type": "code",
   "execution_count": 81,
   "metadata": {},
   "outputs": [],
   "source": [
    "from chainer import optimizers\n",
    "\n",
    "optimizer = optimizers.SGD(lr=0.01).setup(net)"
   ]
  },
  {
   "cell_type": "code",
   "execution_count": 84,
   "metadata": {},
   "outputs": [
    {
     "name": "stdout",
     "output_type": "stream",
     "text": [
      "epoch:06 train_loss:1.0312 val_loss:1.0797 val_accuracy:0.4525\n",
      "epoch:07 train_loss:1.0052 val_loss:1.1031 val_accuracy:0.4525\n",
      "epoch:08 train_loss:0.9869 val_loss:1.0966 val_accuracy:0.4525\n",
      "epoch:09 train_loss:1.0025 val_loss:1.0924 val_accuracy:0.4525\n",
      "epoch:10 train_loss:0.9947 val_loss:1.0815 val_accuracy:0.4525\n",
      "test_accuracy:0.4783\n"
     ]
    }
   ],
   "source": [
    "import numpy as np\n",
    "from chainer.dataset import concat_examples\n",
    "from chainer.cuda import to_cpu\n",
    "\n",
    "max_epoch = 10\n",
    "\n",
    "while train_iter.epoch < max_epoch:\n",
    "\n",
    "    # ---------- 学習の1イテレーション ----------\n",
    "    train_batch = train_iter.next()\n",
    "    x, t = concat_examples(train_batch, gpu_id)\n",
    "    \n",
    "    #print('x:{}'.format(x.shape))\n",
    "    \n",
    "    # 予測値の計算\n",
    "    y = net(x)\n",
    "    #print(\"t{}\".format(t.shape))\n",
    "\n",
    "    # ロスの計算\n",
    "    loss = F.softmax_cross_entropy(y, t)\n",
    "\n",
    "    # 勾配の計算\n",
    "    net.cleargrads()\n",
    "    loss.backward()\n",
    "\n",
    "    # パラメータの更新\n",
    "    optimizer.update()\n",
    "    # --------------- ここまで ----------------\n",
    "\n",
    "    # 1エポック終了ごとにValidationデータに対する予測精度を計測\n",
    "    if train_iter.is_new_epoch:  # 1 epochが終わったら\n",
    "\n",
    "        # ロスの表示\n",
    "        print('epoch:{:02d} train_loss:{:.04f} '.format(\n",
    "            train_iter.epoch, float(to_cpu(loss.data))), end='')\n",
    "\n",
    "        valid_losses = []\n",
    "        valid_accuracies = []\n",
    "        while True:\n",
    "            valid_batch = valid_iter.next()\n",
    "            x_valid, t_valid = concat_examples(valid_batch, gpu_id)\n",
    "\n",
    "            # Validationデータをforward\n",
    "            with chainer.using_config('train', False), \\\n",
    "                    chainer.using_config('enable_backprop', False):\n",
    "                y_valid = net(x_valid)\n",
    "\n",
    "            # ロスを計算\n",
    "            loss_valid = F.softmax_cross_entropy(y_valid, t_valid)\n",
    "            valid_losses.append(to_cpu(loss_valid.array))\n",
    "\n",
    "            # 精度を計算\n",
    "            accuracy = F.accuracy(y_valid, t_valid)\n",
    "            accuracy.to_cpu()\n",
    "            valid_accuracies.append(accuracy.array)\n",
    "\n",
    "            if valid_iter.is_new_epoch:\n",
    "                valid_iter.reset()\n",
    "                break\n",
    "\n",
    "        print('val_loss:{:.04f} val_accuracy:{:.04f}'.format(\n",
    "            np.mean(valid_losses), np.mean(valid_accuracies)))\n",
    "\n",
    "# テストデータでの評価\n",
    "test_accuracies = []\n",
    "while True:\n",
    "    test_batch = test_iter.next()\n",
    "    x_test, t_test = concat_examples(test_batch, gpu_id)\n",
    "\n",
    "    # テストデータをforward\n",
    "    with chainer.using_config('train', False), \\\n",
    "            chainer.using_config('enable_backprop', False):\n",
    "        y_test = net(x_test)\n",
    "\n",
    "    # 精度を計算\n",
    "    accuracy = F.accuracy(y_test, t_test)\n",
    "    accuracy.to_cpu()\n",
    "    test_accuracies.append(accuracy.array)\n",
    "\n",
    "    if test_iter.is_new_epoch:\n",
    "        test_iter.reset()\n",
    "        break\n",
    "\n",
    "print('test_accuracy:{:.04f}'.format(np.mean(test_accuracies)))"
   ]
  },
  {
   "cell_type": "code",
   "execution_count": null,
   "metadata": {},
   "outputs": [],
   "source": []
  }
 ],
 "metadata": {
  "kernelspec": {
   "display_name": "Python 3",
   "language": "python",
   "name": "python3"
  },
  "language_info": {
   "codemirror_mode": {
    "name": "ipython",
    "version": 3
   },
   "file_extension": ".py",
   "mimetype": "text/x-python",
   "name": "python",
   "nbconvert_exporter": "python",
   "pygments_lexer": "ipython3",
   "version": "3.6.4"
  }
 },
 "nbformat": 4,
 "nbformat_minor": 2
}
